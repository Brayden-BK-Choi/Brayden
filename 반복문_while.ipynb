{
  "nbformat": 4,
  "nbformat_minor": 0,
  "metadata": {
    "colab": {
      "name": "반복문 while.ipynb",
      "provenance": [],
      "authorship_tag": "ABX9TyOiqd3z/EzfLnOL+hf0/oFj",
      "include_colab_link": true
    },
    "kernelspec": {
      "name": "python3",
      "display_name": "Python 3"
    },
    "language_info": {
      "name": "python"
    }
  },
  "cells": [
    {
      "cell_type": "markdown",
      "metadata": {
        "id": "view-in-github",
        "colab_type": "text"
      },
      "source": [
        "<a href=\"https://colab.research.google.com/github/Brayden-BK-Choi/Brayden/blob/main/%EB%B0%98%EB%B3%B5%EB%AC%B8_while.ipynb\" target=\"_parent\"><img src=\"https://colab.research.google.com/assets/colab-badge.svg\" alt=\"Open In Colab\"/></a>"
      ]
    },
    {
      "cell_type": "code",
      "source": [
        "i = 3\n",
        "while i>=0:\n",
        "  if i > 0:\n",
        "    print(i)\n",
        "  else:\n",
        "    print('the end')\n",
        "  i -= 1\n",
        "  "
      ],
      "metadata": {
        "colab": {
          "base_uri": "https://localhost:8080/"
        },
        "id": "aSQrbLkiJUiN",
        "outputId": "c886b39d-757d-49ac-e50b-f5d657e0e315"
      },
      "execution_count": null,
      "outputs": [
        {
          "output_type": "stream",
          "name": "stdout",
          "text": [
            "3\n",
            "2\n",
            "1\n",
            "the end\n"
          ]
        }
      ]
    },
    {
      "cell_type": "code",
      "source": [
        "i = 3\n",
        "while i >= 1:\n",
        "  print(i)\n",
        "  i -= 1\n",
        "print('the end')"
      ],
      "metadata": {
        "colab": {
          "base_uri": "https://localhost:8080/"
        },
        "id": "CLcKgBrBK0Ax",
        "outputId": "ba985e26-1983-41d8-a8b5-b10d4a776a4e"
      },
      "execution_count": null,
      "outputs": [
        {
          "output_type": "stream",
          "name": "stdout",
          "text": [
            "3\n",
            "2\n",
            "1\n",
            "the end\n"
          ]
        }
      ]
    },
    {
      "cell_type": "code",
      "source": [
        "i = 3\n",
        "while i!=0:\n",
        "  print(i)\n",
        "  i-=1\n",
        "print('the end')"
      ],
      "metadata": {
        "colab": {
          "base_uri": "https://localhost:8080/"
        },
        "id": "op557lNZMQcg",
        "outputId": "04d02258-ecb9-49e3-db5e-eea47e657bdd"
      },
      "execution_count": null,
      "outputs": [
        {
          "output_type": "stream",
          "name": "stdout",
          "text": [
            "3\n",
            "2\n",
            "1\n",
            "the end\n"
          ]
        }
      ]
    },
    {
      "cell_type": "code",
      "source": [
        "a = [1, 2, 2, 2]\n",
        "for i in range(a.count(2)):\n",
        "  a.remove(2)\n",
        "print(a)\n"
      ],
      "metadata": {
        "colab": {
          "base_uri": "https://localhost:8080/"
        },
        "id": "YYdUxJjbMoQr",
        "outputId": "bb44b57d-a341-4d6f-9d29-924b26702ca0"
      },
      "execution_count": null,
      "outputs": [
        {
          "output_type": "stream",
          "name": "stdout",
          "text": [
            "[1]\n"
          ]
        }
      ]
    },
    {
      "cell_type": "code",
      "source": [
        "a = [1, 2, 2, 2]\n",
        "i = a.count(2)\n",
        "while i != 0:\n",
        "  a.remove(2)\n",
        "  i = a.count(2)\n",
        "print(a)"
      ],
      "metadata": {
        "colab": {
          "base_uri": "https://localhost:8080/"
        },
        "id": "vzqV4AfcOc3t",
        "outputId": "290d5566-be39-4298-dc97-2f0797824085"
      },
      "execution_count": null,
      "outputs": [
        {
          "output_type": "stream",
          "name": "stdout",
          "text": [
            "[1]\n"
          ]
        }
      ]
    },
    {
      "cell_type": "code",
      "source": [
        ""
      ],
      "metadata": {
        "id": "X-HEcIftPe1O"
      },
      "execution_count": null,
      "outputs": []
    }
  ]
}